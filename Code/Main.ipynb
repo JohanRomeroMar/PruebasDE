{
 "cells": [
  {
   "cell_type": "code",
   "execution_count": 12,
   "metadata": {},
   "outputs": [],
   "source": [
    "from pyspark.sql import SparkSession\n",
    "from pyspark.sql.types import DoubleType, StringType, DecimalType\n",
    "from pyspark.sql.functions import regexp_replace\n",
    "import pandas as pd"
   ]
  },
  {
   "cell_type": "code",
   "execution_count": 13,
   "metadata": {},
   "outputs": [],
   "source": [
    "#environment building\n",
    "spark = SparkSession.builder.appName(\"Pyspark app\").config(\"spark.some.option\", \"some-value\").getOrCreate()"
   ]
  },
  {
   "cell_type": "code",
   "execution_count": 14,
   "metadata": {},
   "outputs": [],
   "source": [
    "#charge data\n",
    "df_features = spark.read.option('header', True).option('delimiter', '|').option('inferSchema', True).csv('../Assets/features.csv')\n",
    "df_historic_sales = spark.read.option('header', True).option('delimiter', '|').csv('../Assets/historic_sales.csv')\n",
    "\n",
    "df_store_info = spark.read.option('header', True).option('delimiter', ';').option('inferSchema', True).csv('../Assets/store_info.csv')"
   ]
  },
  {
   "cell_type": "code",
   "execution_count": 15,
   "metadata": {},
   "outputs": [],
   "source": [
    "#main join \n",
    "df_Store_info_Sales = df_store_info.join(df_historic_sales, df_store_info['Store'] == df_historic_sales['Store'], 'left').select(df_store_info['Store'], df_store_info['Store'], df_store_info['Size'], \n",
    "                                                                                                                                df_historic_sales['Dept'], df_historic_sales['Date'], df_historic_sales['Weekly_Sales'],\n",
    "                                                                                                                                df_historic_sales['IsHoliday'])"
   ]
  },
  {
   "cell_type": "code",
   "execution_count": 41,
   "metadata": {},
   "outputs": [],
   "source": [
    "#Second semester filter\n",
    "df_2012Sales = df_Store_info_Sales.select(df_Store_info_Sales['Store'], df_Store_info_Sales['Store'], df_Store_info_Sales['Size'], \n",
    "                                            df_Store_info_Sales['Dept'], df_Store_info_Sales['Date'], df_Store_info_Sales['Weekly_Sales'],\n",
    "                                            df_Store_info_Sales['IsHoliday']).filter(df_Store_info_Sales['Date'].between('2012-07-01', '2012-12-31'))"
   ]
  },
  {
   "cell_type": "code",
   "execution_count": 44,
   "metadata": {},
   "outputs": [],
   "source": [
    "df_2012Sales = df_2012Sales.withColumn('Weekly_Sales', regexp_replace('Weekly_Sales', ',', '.').cast(DecimalType()))#convert of Weekly_Sales colun to Decimal\n",
    "df_2012SalesAmounts = df_2012Sales.groupBy('Store').sum('Weekly_Sales')#givin a totaml amount of sales \n",
    "df_2012SalesAmounts = df_2012SalesAmounts.orderBy(df_2012SalesAmounts['sum(Weekly_Sales)'].desc()) #sorting data"
   ]
  },
  {
   "cell_type": "code",
   "execution_count": 16,
   "metadata": {},
   "outputs": [],
   "source": [
    "df_Store_info_Sales = df_Store_info_Sales.dropna()#drop of rows with null\n",
    "df_Store_info_Sales2 = df_Store_info_Sales.withColumn('Weekly_Sales', regexp_replace('Weekly_Sales', ',', '.').cast(DecimalType()))#convert of Weekly_Sales colun to Decimal"
   ]
  },
  {
   "cell_type": "code",
   "execution_count": 28,
   "metadata": {},
   "outputs": [],
   "source": [
    "df_totalSales = df_Store_info_Sales2.groupBy('Store').sum('Weekly_Sales')#givin a totaml amount of sales \n",
    "df_totalSales2 = df_totalSales.orderBy(df_totalSales['sum(Weekly_Sales)'].desc()) #sorting data"
   ]
  },
  {
   "cell_type": "code",
   "execution_count": 30,
   "metadata": {},
   "outputs": [],
   "source": [
    "df_totalSalesCount = df_Store_info_Sales2.groupBy('Store').count()#count of sales per store"
   ]
  },
  {
   "cell_type": "code",
   "execution_count": 22,
   "metadata": {},
   "outputs": [],
   "source": [
    "df_maxvalues = df_Store_info_Sales.groupBy('Store').max('Size')#getting size of stores\n",
    "df_maxvalues = df_maxvalues.orderBy(df_maxvalues['max(Size)'].desc())#sorting data"
   ]
  },
  {
   "cell_type": "code",
   "execution_count": 25,
   "metadata": {},
   "outputs": [],
   "source": [
    "df_biggerStores = df_maxvalues.join(df_totalSales2, df_maxvalues['Store'] == df_totalSales2['Store'], 'inner').select(df_maxvalues['Store'], df_maxvalues['max(Size)'], df_totalSales2['sum(Weekly_Sales)'])#union of dataframes total sales with max size"
   ]
  },
  {
   "cell_type": "code",
   "execution_count": 39,
   "metadata": {},
   "outputs": [],
   "source": [
    "df_biggerStores_SalesCount_Desc = df_biggerStores.join(df_totalSalesCount, df_biggerStores['Store'] == df_totalSalesCount['Store'], 'inner').select(df_biggerStores['Store'], df_biggerStores['max(Size)'], df_biggerStores['sum(Weekly_Sales)'], df_totalSalesCount['count']).orderBy(df_biggerStores['max(Size)'].desc())#sorting data desc\n",
    "df_biggerStores_SalesCount_Asce = df_biggerStores.join(df_totalSalesCount, df_biggerStores['Store'] == df_totalSalesCount['Store'], 'inner').select(df_biggerStores['Store'], df_biggerStores['max(Size)'], df_biggerStores['sum(Weekly_Sales)'], df_totalSalesCount['count']).orderBy(df_totalSalesCount['count'].asc())#sorting data asc"
   ]
  },
  {
   "cell_type": "code",
   "execution_count": 23,
   "metadata": {},
   "outputs": [],
   "source": [
    "df_historic_salesCount = df_historic_sales.groupBy('Store').count()#count of sales"
   ]
  }
 ],
 "metadata": {
  "interpreter": {
   "hash": "916dbcbb3f70747c44a77c7bcd40155683ae19c65e1c03b4aa3499c5328201f1"
  },
  "kernelspec": {
   "display_name": "Python 3.10.4 64-bit",
   "language": "python",
   "name": "python3"
  },
  "language_info": {
   "codemirror_mode": {
    "name": "ipython",
    "version": 3
   },
   "file_extension": ".py",
   "mimetype": "text/x-python",
   "name": "python",
   "nbconvert_exporter": "python",
   "pygments_lexer": "ipython3",
   "version": "3.10.4"
  },
  "orig_nbformat": 4
 },
 "nbformat": 4,
 "nbformat_minor": 2
}
